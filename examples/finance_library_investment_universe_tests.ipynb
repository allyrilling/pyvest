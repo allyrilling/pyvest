{
 "cells": [
  {
   "cell_type": "code",
   "execution_count": 1,
   "id": "dbc8acb3",
   "metadata": {},
   "outputs": [
    {
     "name": "stdout",
     "output_type": "stream",
     "text": [
      "C:\\Users\\patri\\Documents\\udemy\\GitHub\\finance-library\n"
     ]
    }
   ],
   "source": [
    "%cd .."
   ]
  },
  {
   "cell_type": "code",
   "execution_count": 2,
   "id": "f921a2e7",
   "metadata": {
    "scrolled": true
   },
   "outputs": [],
   "source": [
    "# from pyvest import get_monthly_returns_df, Portfolio, InvestmentUniverse, InvestmentUniverseVisualizer\n",
    "from pyvest import *\n",
    "from pyvest.general import get_monthly_returns"
   ]
  },
  {
   "cell_type": "code",
   "execution_count": 3,
   "id": "32e534cc",
   "metadata": {},
   "outputs": [],
   "source": [
    "tickers_list = ['KO', 'MSFT', 'WMT']\n",
    "start_date = \"1990-01-01\"\n",
    "end_date = \"2022-12-31\""
   ]
  },
  {
   "cell_type": "markdown",
   "id": "f9d0bf5a",
   "metadata": {},
   "source": [
    "## Download data"
   ]
  },
  {
   "cell_type": "code",
   "execution_count": 4,
   "id": "0160ec65",
   "metadata": {},
   "outputs": [],
   "source": [
    "monthly_returns_df = get_monthly_returns(tickers_list, start_date=start_date, end_date=end_date)"
   ]
  },
  {
   "cell_type": "code",
   "execution_count": 5,
   "id": "5b351159",
   "metadata": {},
   "outputs": [
    {
     "data": {
      "text/html": [
       "<div>\n",
       "<style scoped>\n",
       "    .dataframe tbody tr th:only-of-type {\n",
       "        vertical-align: middle;\n",
       "    }\n",
       "\n",
       "    .dataframe tbody tr th {\n",
       "        vertical-align: top;\n",
       "    }\n",
       "\n",
       "    .dataframe thead th {\n",
       "        text-align: right;\n",
       "    }\n",
       "</style>\n",
       "<table border=\"1\" class=\"dataframe\">\n",
       "  <thead>\n",
       "    <tr style=\"text-align: right;\">\n",
       "      <th></th>\n",
       "      <th>KO</th>\n",
       "      <th>MSFT</th>\n",
       "      <th>WMT</th>\n",
       "    </tr>\n",
       "    <tr>\n",
       "      <th>Date</th>\n",
       "      <th></th>\n",
       "      <th></th>\n",
       "      <th></th>\n",
       "    </tr>\n",
       "  </thead>\n",
       "  <tbody>\n",
       "    <tr>\n",
       "      <th>1990-01-31</th>\n",
       "      <td>NaN</td>\n",
       "      <td>NaN</td>\n",
       "      <td>NaN</td>\n",
       "    </tr>\n",
       "    <tr>\n",
       "      <th>1990-02-28</th>\n",
       "      <td>2.359339</td>\n",
       "      <td>6.756783</td>\n",
       "      <td>3.225768</td>\n",
       "    </tr>\n",
       "    <tr>\n",
       "      <th>1990-03-31</th>\n",
       "      <td>6.617636</td>\n",
       "      <td>12.151867</td>\n",
       "      <td>7.545656</td>\n",
       "    </tr>\n",
       "    <tr>\n",
       "      <th>1990-04-30</th>\n",
       "      <td>2.006646</td>\n",
       "      <td>4.740520</td>\n",
       "      <td>5.026514</td>\n",
       "    </tr>\n",
       "    <tr>\n",
       "      <th>1990-05-31</th>\n",
       "      <td>18.360629</td>\n",
       "      <td>25.861981</td>\n",
       "      <td>13.602045</td>\n",
       "    </tr>\n",
       "    <tr>\n",
       "      <th>...</th>\n",
       "      <td>...</td>\n",
       "      <td>...</td>\n",
       "      <td>...</td>\n",
       "    </tr>\n",
       "    <tr>\n",
       "      <th>2022-08-31</th>\n",
       "      <td>-3.833566</td>\n",
       "      <td>-6.666310</td>\n",
       "      <td>0.815816</td>\n",
       "    </tr>\n",
       "    <tr>\n",
       "      <th>2022-09-30</th>\n",
       "      <td>-8.558689</td>\n",
       "      <td>-10.926688</td>\n",
       "      <td>-2.150129</td>\n",
       "    </tr>\n",
       "    <tr>\n",
       "      <th>2022-10-31</th>\n",
       "      <td>6.836835</td>\n",
       "      <td>-0.330609</td>\n",
       "      <td>9.737854</td>\n",
       "    </tr>\n",
       "    <tr>\n",
       "      <th>2022-11-30</th>\n",
       "      <td>7.036151</td>\n",
       "      <td>10.222303</td>\n",
       "      <td>7.089160</td>\n",
       "    </tr>\n",
       "    <tr>\n",
       "      <th>2022-12-31</th>\n",
       "      <td>0.000000</td>\n",
       "      <td>-6.004544</td>\n",
       "      <td>-6.623463</td>\n",
       "    </tr>\n",
       "  </tbody>\n",
       "</table>\n",
       "<p>396 rows × 3 columns</p>\n",
       "</div>"
      ],
      "text/plain": [
       "                   KO       MSFT        WMT\n",
       "Date                                       \n",
       "1990-01-31        NaN        NaN        NaN\n",
       "1990-02-28   2.359339   6.756783   3.225768\n",
       "1990-03-31   6.617636  12.151867   7.545656\n",
       "1990-04-30   2.006646   4.740520   5.026514\n",
       "1990-05-31  18.360629  25.861981  13.602045\n",
       "...               ...        ...        ...\n",
       "2022-08-31  -3.833566  -6.666310   0.815816\n",
       "2022-09-30  -8.558689 -10.926688  -2.150129\n",
       "2022-10-31   6.836835  -0.330609   9.737854\n",
       "2022-11-30   7.036151  10.222303   7.089160\n",
       "2022-12-31   0.000000  -6.004544  -6.623463\n",
       "\n",
       "[396 rows x 3 columns]"
      ]
     },
     "execution_count": 5,
     "metadata": {},
     "output_type": "execute_result"
    }
   ],
   "source": [
    "monthly_returns_df"
   ]
  },
  {
   "cell_type": "markdown",
   "id": "17828ac2",
   "metadata": {},
   "source": [
    "## Portfolio"
   ]
  },
  {
   "cell_type": "code",
   "execution_count": 6,
   "id": "29083252",
   "metadata": {},
   "outputs": [
    {
     "data": {
      "text/plain": [
       "<AxesSubplot:xlabel='Date'>"
      ]
     },
     "execution_count": 6,
     "metadata": {},
     "output_type": "execute_result"
    },
    {
     "data": {
      "image/png": "[encoded data removed]",
      "text/plain": [
       "<Figure size 432x288 with 1 Axes>"
      ]
     },
     "metadata": {
      "needs_background": "light"
     },
     "output_type": "display_data"
    }
   ],
   "source": [
    "monthly_returns_df.plot()"
   ]
  },
  {
   "cell_type": "code",
   "execution_count": 7,
   "id": "ccf1a037",
   "metadata": {},
   "outputs": [],
   "source": [
    "r_bar = monthly_returns_df.mean()\n",
    "sigma = monthly_returns_df.cov()"
   ]
  },
  {
   "cell_type": "code",
   "execution_count": 8,
   "id": "e8ec974a",
   "metadata": {},
   "outputs": [
    {
     "data": {
      "text/plain": [
       "KO      1.044766\n",
       "MSFT    2.002173\n",
       "WMT     1.150221\n",
       "dtype: float64"
      ]
     },
     "execution_count": 8,
     "metadata": {},
     "output_type": "execute_result"
    }
   ],
   "source": [
    "r_bar"
   ]
  },
  {
   "cell_type": "code",
   "execution_count": 9,
   "id": "1fbd8f54",
   "metadata": {},
   "outputs": [
    {
     "data": {
      "text/html": [
       "<div>\n",
       "<style scoped>\n",
       "    .dataframe tbody tr th:only-of-type {\n",
       "        vertical-align: middle;\n",
       "    }\n",
       "\n",
       "    .dataframe tbody tr th {\n",
       "        vertical-align: top;\n",
       "    }\n",
       "\n",
       "    .dataframe thead th {\n",
       "        text-align: right;\n",
       "    }\n",
       "</style>\n",
       "<table border=\"1\" class=\"dataframe\">\n",
       "  <thead>\n",
       "    <tr style=\"text-align: right;\">\n",
       "      <th></th>\n",
       "      <th>KO</th>\n",
       "      <th>MSFT</th>\n",
       "      <th>WMT</th>\n",
       "    </tr>\n",
       "  </thead>\n",
       "  <tbody>\n",
       "    <tr>\n",
       "      <th>KO</th>\n",
       "      <td>32.968929</td>\n",
       "      <td>11.380117</td>\n",
       "      <td>11.425619</td>\n",
       "    </tr>\n",
       "    <tr>\n",
       "      <th>MSFT</th>\n",
       "      <td>11.380117</td>\n",
       "      <td>76.428667</td>\n",
       "      <td>15.526849</td>\n",
       "    </tr>\n",
       "    <tr>\n",
       "      <th>WMT</th>\n",
       "      <td>11.425619</td>\n",
       "      <td>15.526849</td>\n",
       "      <td>39.638421</td>\n",
       "    </tr>\n",
       "  </tbody>\n",
       "</table>\n",
       "</div>"
      ],
      "text/plain": [
       "             KO       MSFT        WMT\n",
       "KO    32.968929  11.380117  11.425619\n",
       "MSFT  11.380117  76.428667  15.526849\n",
       "WMT   11.425619  15.526849  39.638421"
      ]
     },
     "execution_count": 9,
     "metadata": {},
     "output_type": "execute_result"
    }
   ],
   "source": [
    "sigma"
   ]
  },
  {
   "cell_type": "code",
   "execution_count": 10,
   "id": "4ae56775",
   "metadata": {},
   "outputs": [],
   "source": [
    "# r_bar2 = monthly_returns2_df.mean()\n",
    "# sigma2 = monthly_returns2_df.cov()"
   ]
  },
  {
   "cell_type": "code",
   "execution_count": 11,
   "id": "0df14d87",
   "metadata": {},
   "outputs": [
    {
     "data": {
      "text/plain": [
       "KO      1.044766\n",
       "MSFT    2.002173\n",
       "WMT     1.150221\n",
       "dtype: float64"
      ]
     },
     "execution_count": 11,
     "metadata": {},
     "output_type": "execute_result"
    }
   ],
   "source": [
    "r_bar"
   ]
  },
  {
   "cell_type": "markdown",
   "id": "dc069817",
   "metadata": {},
   "source": [
    "## InvestmentUniverse"
   ]
  },
  {
   "cell_type": "code",
   "execution_count": 12,
   "id": "617a1af0",
   "metadata": {},
   "outputs": [
    {
     "ename": "TypeError",
     "evalue": "The parameter 'investors' must either be None or a list of objects Investor.",
     "output_type": "error",
     "traceback": [
      "\u001b[1;31m---------------------------------------------------------------------------\u001b[0m",
      "\u001b[1;31mTypeError\u001b[0m                                 Traceback (most recent call last)",
      "Input \u001b[1;32mIn [12]\u001b[0m, in \u001b[0;36m<cell line: 1>\u001b[1;34m()\u001b[0m\n\u001b[1;32m----> 1\u001b[0m investment_universe \u001b[38;5;241m=\u001b[39m \u001b[43mInvestmentUniverse\u001b[49m\u001b[43m(\u001b[49m\u001b[43mtickers_list\u001b[49m\u001b[43m,\u001b[49m\u001b[43m \u001b[49m\u001b[43mr_bar\u001b[49m\u001b[43m,\u001b[49m\u001b[43m \u001b[49m\u001b[43msigma\u001b[49m\u001b[43m,\u001b[49m\u001b[43m \u001b[49m\u001b[43mr_f\u001b[49m\u001b[38;5;241;43m=\u001b[39;49m\u001b[38;5;241;43m0.1\u001b[39;49m\u001b[43m,\u001b[49m\u001b[43m \u001b[49m\u001b[43mmin_weight\u001b[49m\u001b[38;5;241;43m=\u001b[39;49m\u001b[38;5;241;43m0\u001b[39;49m\u001b[43m,\u001b[49m\u001b[43m \u001b[49m\u001b[43moptimization_tolerance\u001b[49m\u001b[38;5;241;43m=\u001b[39;49m\u001b[38;5;241;43m1e-8\u001b[39;49m\u001b[43m)\u001b[49m\n",
      "File \u001b[1;32m~\\Documents\\udemy\\GitHub\\finance-library\\pyvest\\investment_universe\\investment_universe.py:34\u001b[0m, in \u001b[0;36mInvestmentUniverse.__init__\u001b[1;34m(self, assets, mu, cov, r_f, min_weight, investors, optimization_tolerance)\u001b[0m\n\u001b[0;32m     31\u001b[0m \u001b[38;5;28mself\u001b[39m\u001b[38;5;241m.\u001b[39m__assign_min_weight(min_weight)\n\u001b[0;32m     33\u001b[0m \u001b[38;5;28mself\u001b[39m\u001b[38;5;241m.\u001b[39m__investors \u001b[38;5;241m=\u001b[39m []\n\u001b[1;32m---> 34\u001b[0m \u001b[38;5;28;43mself\u001b[39;49m\u001b[38;5;241;43m.\u001b[39;49m\u001b[43m__assign_investors\u001b[49m\u001b[43m(\u001b[49m\u001b[43minvestors\u001b[49m\u001b[43m)\u001b[49m\n\u001b[0;32m     36\u001b[0m \u001b[38;5;28mself\u001b[39m\u001b[38;5;241m.\u001b[39m__assign_optimization_tolerance(optimization_tolerance)\n\u001b[0;32m     38\u001b[0m \u001b[38;5;28mself\u001b[39m\u001b[38;5;241m.\u001b[39m__calculate_assets_std()\n",
      "File \u001b[1;32m~\\Documents\\udemy\\GitHub\\finance-library\\pyvest\\investment_universe\\investment_universe.py:367\u001b[0m, in \u001b[0;36mInvestmentUniverse.__assign_investors\u001b[1;34m(self, investors)\u001b[0m\n\u001b[0;32m    365\u001b[0m         \u001b[38;5;28mself\u001b[39m\u001b[38;5;241m.\u001b[39m__investors\u001b[38;5;241m.\u001b[39mextend(investors)\n\u001b[0;32m    366\u001b[0m \u001b[38;5;28;01melse\u001b[39;00m:\n\u001b[1;32m--> 367\u001b[0m     \u001b[38;5;28;01mraise\u001b[39;00m \u001b[38;5;167;01mTypeError\u001b[39;00m(\n\u001b[0;32m    368\u001b[0m         \u001b[38;5;124m\"\u001b[39m\u001b[38;5;124mThe parameter \u001b[39m\u001b[38;5;124m'\u001b[39m\u001b[38;5;124minvestors\u001b[39m\u001b[38;5;124m'\u001b[39m\u001b[38;5;124m must either be None or a list of \u001b[39m\u001b[38;5;124m\"\u001b[39m\n\u001b[0;32m    369\u001b[0m         \u001b[38;5;124m\"\u001b[39m\u001b[38;5;124mobjects Investor.\u001b[39m\u001b[38;5;124m\"\u001b[39m)\n",
      "\u001b[1;31mTypeError\u001b[0m: The parameter 'investors' must either be None or a list of objects Investor."
     ]
    }
   ],
   "source": [
    "investment_universe = InvestmentUniverse(tickers_list, r_bar, sigma, r_f=0.1, min_weight=0, optimization_tolerance=1e-8)"
   ]
  },
  {
   "cell_type": "code",
   "execution_count": null,
   "id": "2d2ccce5",
   "metadata": {},
   "outputs": [],
   "source": [
    "investment_universe.calculate_feasible_portfolios(nb_portfolios=50000)"
   ]
  },
  {
   "cell_type": "code",
   "execution_count": null,
   "id": "a39d9973",
   "metadata": {},
   "outputs": [],
   "source": [
    "investment_universe.calculate_mvp()"
   ]
  },
  {
   "cell_type": "code",
   "execution_count": null,
   "id": "88102144",
   "metadata": {},
   "outputs": [],
   "source": [
    "investment_universe.calculate_efficient_frontier()"
   ]
  },
  {
   "cell_type": "code",
   "execution_count": null,
   "id": "fcb2e50d",
   "metadata": {},
   "outputs": [],
   "source": [
    "investment_universe.calculate_tangency_portfolio()"
   ]
  },
  {
   "cell_type": "code",
   "execution_count": null,
   "id": "92157950",
   "metadata": {},
   "outputs": [],
   "source": [
    "investment_universe.calculate_cal()"
   ]
  },
  {
   "cell_type": "code",
   "execution_count": null,
   "id": "9e58764a",
   "metadata": {},
   "outputs": [],
   "source": [
    "investment_universe.calculate_portfolio([0.5, 0.25, 0.25])"
   ]
  },
  {
   "cell_type": "code",
   "execution_count": null,
   "id": "3f83cfe1",
   "metadata": {},
   "outputs": [],
   "source": [
    "investment_universe.mu"
   ]
  },
  {
   "cell_type": "code",
   "execution_count": null,
   "id": "596a0034",
   "metadata": {},
   "outputs": [],
   "source": [
    "investment_universe.std"
   ]
  },
  {
   "cell_type": "code",
   "execution_count": null,
   "id": "25c32509",
   "metadata": {},
   "outputs": [],
   "source": [
    "investment_universe.calculate_efficient_portfolio(sigma=8, name=\"sigma\")"
   ]
  },
  {
   "cell_type": "code",
   "execution_count": null,
   "id": "f0b6bd48",
   "metadata": {},
   "outputs": [],
   "source": [
    "investment_universe.calculate_efficient_portfolio(mu=1.8)"
   ]
  },
  {
   "cell_type": "code",
   "execution_count": null,
   "id": "18a30147",
   "metadata": {},
   "outputs": [],
   "source": [
    "investment_universe.plot()"
   ]
  },
  {
   "cell_type": "code",
   "execution_count": null,
   "id": "69f0dde7",
   "metadata": {},
   "outputs": [],
   "source": [
    "investment_universe.tangency_portfolio"
   ]
  },
  {
   "cell_type": "code",
   "execution_count": null,
   "id": "0e40740d",
   "metadata": {},
   "outputs": [],
   "source": [
    "# investment_universe2 = InvestmentUniverse(tickers2_list, r_bar2, sigma2, r_f=0.1, min_weight=0, optimization_tolerance=1e-6)\n",
    "# investment_universe2.calculate_feasible_portfolios(nb_portfolios=20000)\n",
    "# investment_universe2.calculate_mvp()\n",
    "# investment_universe2.calculate_efficient_frontier()\n",
    "# investment_universe2.calculate_tangency_portfolio()\n",
    "# investment_universe2.calculate_cal()"
   ]
  },
  {
   "cell_type": "code",
   "execution_count": null,
   "id": "d0d7a1aa",
   "metadata": {},
   "outputs": [],
   "source": [
    "investment_universe2.calculate_efficient_portfolio(sigma=8, name=\"test\", x0=investment_universe2.mvp.weights, tolerance=1e-6)"
   ]
  },
  {
   "cell_type": "code",
   "execution_count": null,
   "id": "b2e8cfc3",
   "metadata": {},
   "outputs": [],
   "source": [
    "investment_universe2.plot()"
   ]
  },
  {
   "cell_type": "code",
   "execution_count": null,
   "id": "3be2eea9",
   "metadata": {},
   "outputs": [],
   "source": [
    "investment_universe.plot(compare_with=investment_universe2)"
   ]
  },
  {
   "cell_type": "code",
   "execution_count": null,
   "id": "aa94db04",
   "metadata": {},
   "outputs": [],
   "source": [
    "my_investment_universe_visualizer = InvestmentUniverseVisualizer([investment_universe, investment_universe2])"
   ]
  },
  {
   "cell_type": "code",
   "execution_count": null,
   "id": "73fdafb3",
   "metadata": {},
   "outputs": [],
   "source": [
    "# my_investment_universe_visualizer.feasible_portfolios_visible = False\n",
    "# my_investment_universe_visualizer.mvp_visible = True\n",
    "# my_investment_universe_visualizer.efficient_frontier_visible = True\n",
    "# my_investment_universe_visualizer.tangency_portfolio_visible = True\n",
    "# my_investment_universe_visualizer.cal_visible = False\n",
    "# my_investment_universe_visualizer.r_f_visible = False\n",
    "# my_investment_universe_visualizer.assets_visible = False\n",
    "# my_investment_universe_visualizer.other_portfolios_visible = False"
   ]
  },
  {
   "cell_type": "code",
   "execution_count": null,
   "id": "20a68287",
   "metadata": {
    "scrolled": false
   },
   "outputs": [],
   "source": [
    "my_investment_universe_visualizer.plot()"
   ]
  },
  {
   "cell_type": "code",
   "execution_count": null,
   "id": "c12a0aaa",
   "metadata": {},
   "outputs": [],
   "source": [
    "investment_universe.plot()"
   ]
  },
  {
   "cell_type": "code",
   "execution_count": null,
   "id": "1f63c21a",
   "metadata": {},
   "outputs": [],
   "source": [
    "investment_universe.visualizer.cal_visible = False"
   ]
  },
  {
   "cell_type": "code",
   "execution_count": null,
   "id": "948a5da2",
   "metadata": {},
   "outputs": [],
   "source": [
    "investment_universe.plot()"
   ]
  },
  {
   "cell_type": "code",
   "execution_count": null,
   "id": "25487eab",
   "metadata": {},
   "outputs": [],
   "source": [
    "investment_universe2.plot()"
   ]
  },
  {
   "cell_type": "code",
   "execution_count": null,
   "id": "faabcc1f",
   "metadata": {},
   "outputs": [],
   "source": [
    "investment_universe2.calculate_portfolio([0.1,0.2,0.7], \"my_portfolio\")\n",
    "investment_universe2.calculate_portfolio(Portfolio([0.2,0.3,0.5], investment_universe2.mu, investment_universe2.cov), \"my_portfolio2\")"
   ]
  },
  {
   "cell_type": "code",
   "execution_count": null,
   "id": "58dbeaa7",
   "metadata": {},
   "outputs": [],
   "source": [
    "investment_universe2.plot()"
   ]
  },
  {
   "cell_type": "code",
   "execution_count": null,
   "id": "712bb72a",
   "metadata": {},
   "outputs": [],
   "source": [
    "investment_universe2.remove_other_portfolios(\"my_portfolio\")\n",
    "investment_universe2.plot()"
   ]
  },
  {
   "cell_type": "code",
   "execution_count": null,
   "id": "b4b0b70c",
   "metadata": {},
   "outputs": [],
   "source": [
    "investment_universe2.remove_other_portfolios(\"my_portfolio2\")\n",
    "investment_universe2.plot()"
   ]
  },
  {
   "cell_type": "code",
   "execution_count": null,
   "id": "3eefc1a3",
   "metadata": {},
   "outputs": [],
   "source": [
    "investment_universe.visualizer.feasible_portfolios_visible = False"
   ]
  },
  {
   "cell_type": "code",
   "execution_count": null,
   "id": "66cfad02",
   "metadata": {},
   "outputs": [],
   "source": [
    "investment_universe.plot()"
   ]
  }
 ],
 "metadata": {
  "kernelspec": {
   "display_name": "Python 3 (ipykernel)",
   "language": "python",
   "name": "python3"
  },
  "language_info": {
   "codemirror_mode": {
    "name": "ipython",
    "version": 3
   },
   "file_extension": ".py",
   "mimetype": "text/x-python",
   "name": "python",
   "nbconvert_exporter": "python",
   "pygments_lexer": "ipython3",
   "version": "3.9.12"
  }
 },
 "nbformat": 4,
 "nbformat_minor": 5
}
